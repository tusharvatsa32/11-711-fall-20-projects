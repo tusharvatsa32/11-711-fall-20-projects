{
  "nbformat": 4,
  "nbformat_minor": 0,
  "metadata": {
    "colab": {
      "name": "BOW.ipynb",
      "provenance": [],
      "collapsed_sections": [],
      "authorship_tag": "ABX9TyOzNJeNCzWuJjtYxPT4/zUJ",
      "include_colab_link": true
    },
    "kernelspec": {
      "name": "python3",
      "display_name": "Python 3"
    },
    "language_info": {
      "name": "python"
    }
  },
  "cells": [
    {
      "cell_type": "markdown",
      "metadata": {
        "id": "view-in-github",
        "colab_type": "text"
      },
      "source": [
        "<a href=\"https://colab.research.google.com/github/tusharvatsa32/11-711-fall-20-projects/blob/master/BOW.ipynb\" target=\"_parent\"><img src=\"https://colab.research.google.com/assets/colab-badge.svg\" alt=\"Open In Colab\"/></a>"
      ]
    },
    {
      "cell_type": "code",
      "metadata": {
        "id": "w1HxYgsCwMGl"
      },
      "source": [
        "from collections import defaultdict"
      ],
      "execution_count": 1,
      "outputs": []
    },
    {
      "cell_type": "code",
      "metadata": {
        "id": "8ttIgmj3wth9"
      },
      "source": [
        "import time\n",
        "import random\n",
        "import numpy as np\n",
        "import torch\n",
        "from torch import nn\n",
        "from torch.autograd import Variable\n"
      ],
      "execution_count": 2,
      "outputs": []
    },
    {
      "cell_type": "code",
      "metadata": {
        "id": "PDSQyBlYw7TP"
      },
      "source": [
        "class BoW(torch.nn.Module):\n",
        "    def __init__(self, nwords, ntags):\n",
        "        super(BoW, self).__init__()\n",
        "\n",
        "        \"\"\" variables \"\"\"\n",
        "        type = torch.FloatTensor\n",
        "        use_cuda = torch.cuda.is_available()\n",
        "\n",
        "        if use_cuda:\n",
        "            type = torch.cuda.FloatTensor\n",
        "\n",
        "        self.bias = Variable(torch.zeros(ntags),\n",
        "                             requires_grad=True).type(type)\n",
        "\n",
        "        \"\"\" layers \"\"\"\n",
        "        self.embedding = nn.Embedding(nwords, ntags)\n",
        "        print(self.embedding)\n",
        "        # initialize the weights with xavier uniform (Glorot, X. & Bengio, Y. (2010))\n",
        "        nn.init.xavier_uniform_(self.embedding.weight)\n",
        "\n",
        "\n",
        "    def forward(self, words):\n",
        "        emb = self.embedding(words)\n",
        "        out = torch.sum(emb, dim=0) + self.bias # size(out) = N\n",
        "        out = out.view(1, -1) # size(out) = 1 x N\n",
        "        return out\n"
      ],
      "execution_count": 29,
      "outputs": []
    },
    {
      "cell_type": "code",
      "metadata": {
        "id": "n3OlBmkjy2FY"
      },
      "source": [
        "w2i=defaultdict(lambda:len(w2i))"
      ],
      "execution_count": 4,
      "outputs": []
    },
    {
      "cell_type": "code",
      "metadata": {
        "id": "q-VH_Nu1zTwD"
      },
      "source": [
        "t2i=defaultdict(lambda:len(t2i))"
      ],
      "execution_count": 5,
      "outputs": []
    },
    {
      "cell_type": "code",
      "metadata": {
        "id": "kaGsZ7aSzbeB"
      },
      "source": [
        "UNK=w2i['<unk>']\n"
      ],
      "execution_count": 6,
      "outputs": []
    },
    {
      "cell_type": "code",
      "metadata": {
        "id": "lG4TVt6-zizf"
      },
      "source": [
        "def read_dataset(filename):\n",
        "    with open(filename, \"r\") as f:\n",
        "        for line in f:\n",
        "            tag, words = line.lower().strip().split(\" ||| \")\n",
        "            yield ([w2i[x] for x in words.split(\" \")], t2i[tag])"
      ],
      "execution_count": 7,
      "outputs": []
    },
    {
      "cell_type": "code",
      "metadata": {
        "id": "n6Wio42SzmuL"
      },
      "source": [
        "train = list(read_dataset(\"/content/sample_data/train.txt\"))\n",
        "w2i = defaultdict(lambda: UNK, w2i)\n",
        "dev = list(read_dataset(\"/content/sample_data/dev.txt\"))\n",
        "nwords = len(w2i)\n",
        "ntags = len(t2i)"
      ],
      "execution_count": 8,
      "outputs": []
    },
    {
      "cell_type": "code",
      "metadata": {
        "colab": {
          "base_uri": "https://localhost:8080/"
        },
        "id": "fDkGryIp18x4",
        "outputId": "efa6eb75-7643-4ea5-b491-d3ffc5dc020e"
      },
      "source": [
        "len(train[0][0])\n"
      ],
      "execution_count": 28,
      "outputs": [
        {
          "output_type": "execute_result",
          "data": {
            "text/plain": [
              "21"
            ]
          },
          "metadata": {
            "tags": []
          },
          "execution_count": 28
        }
      ]
    },
    {
      "cell_type": "code",
      "metadata": {
        "colab": {
          "base_uri": "https://localhost:8080/"
        },
        "id": "NOXi23vg0EuA",
        "outputId": "fe3c1e6e-13c1-4300-919b-b4bd6561c6d8"
      },
      "source": [
        "model = BoW(nwords, ntags)"
      ],
      "execution_count": 31,
      "outputs": [
        {
          "output_type": "stream",
          "text": [
            "Embedding(17612, 5)\n"
          ],
          "name": "stdout"
        }
      ]
    },
    {
      "cell_type": "code",
      "metadata": {
        "id": "5fdIHhS00PAU"
      },
      "source": [
        "criterion = nn.CrossEntropyLoss()\n",
        "optimizer = torch.optim.Adam(model.parameters())"
      ],
      "execution_count": 17,
      "outputs": []
    },
    {
      "cell_type": "code",
      "metadata": {
        "id": "mX0Vm_f8093H"
      },
      "source": [
        "type = torch.LongTensor\n",
        "use_cuda = torch.cuda.is_available()"
      ],
      "execution_count": 18,
      "outputs": []
    },
    {
      "cell_type": "code",
      "metadata": {
        "id": "vtcCaoY61A25"
      },
      "source": [
        "if use_cuda:\n",
        "    type = torch.cuda.LongTensor\n",
        "    model.cuda()"
      ],
      "execution_count": 32,
      "outputs": []
    },
    {
      "cell_type": "code",
      "metadata": {
        "id": "RfY08AwX1E7L"
      },
      "source": [
        "for ITER in range(100):\n",
        "    # Perform training\n",
        "    random.shuffle(train)\n",
        "    train_loss = 0.0\n",
        "    start = time.time()\n",
        "    for words, tag in train:\n",
        "        words = torch.tensor(words).type(type)\n",
        "        tag = torch.tensor([tag]).type(type)\n",
        "        scores = model(words)\n",
        "        loss = criterion(scores, tag)\n",
        "        train_loss += loss.item()\n",
        "        optimizer.zero_grad()\n",
        "        loss.backward()\n",
        "        optimizer.step()\n",
        "    print(\"iter %r: train loss/sent=%.4f, time=%.2fs\" % (\n",
        "                ITER, train_loss/len(train), time.time()-start))\n",
        "    # Perform testing\n",
        "    test_correct = 0.0\n",
        "    for words, tag in dev:\n",
        "        words = torch.tensor(words).type(type)\n",
        "        scores = model(words)[0].detach().cpu().numpy()\n",
        "        predict = np.argmax(scores)\n",
        "        if predict == tag:\n",
        "            test_correct += 1\n",
        "    print(\"iter %r: test acc=%.4f\" % (ITER, test_correct/len(dev)))\n",
        "\n"
      ],
      "execution_count": null,
      "outputs": []
    },
    {
      "cell_type": "code",
      "metadata": {
        "id": "3MOh9zBV1wkS"
      },
      "source": [
        ""
      ],
      "execution_count": null,
      "outputs": []
    }
  ]
}